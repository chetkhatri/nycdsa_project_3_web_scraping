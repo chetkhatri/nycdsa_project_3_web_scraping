{
 "cells": [
  {
   "cell_type": "code",
   "execution_count": 1,
   "metadata": {
    "collapsed": false
   },
   "outputs": [],
   "source": [
    "import requests\n",
    "import re\n",
    "from bs4 import BeautifulSoup\n",
    "import pandas as pd\n",
    "import numpy as np"
   ]
  },
  {
   "cell_type": "code",
   "execution_count": 2,
   "metadata": {
    "collapsed": false
   },
   "outputs": [],
   "source": [
    "f = open(\"test_name.txt\",\"r\")  \n",
    "name = []\n",
    "for line in f:\n",
    "    line = line.strip()\n",
    "    name.append(line)\n",
    "# print(name)"
   ]
  },
  {
   "cell_type": "code",
   "execution_count": 3,
   "metadata": {
    "collapsed": false
   },
   "outputs": [],
   "source": [
    "f = open(\"test_state.txt\",\"r\")  \n",
    "state = []\n",
    "for line in f:\n",
    "    line = line.strip()\n",
    "    state.append(line)\n",
    "# print(state)"
   ]
  },
  {
   "cell_type": "code",
   "execution_count": 4,
   "metadata": {
    "collapsed": false
   },
   "outputs": [],
   "source": [
    "f = open(\"test_date.txt\",\"r\")  \n",
    "year = []\n",
    "for line in f:\n",
    "    line = line.strip()\n",
    "    line = re.findall('^.*,\\s*(.*)$', line)[0]\n",
    "    year.append(line)\n",
    "# print(year)"
   ]
  },
  {
   "cell_type": "code",
   "execution_count": 5,
   "metadata": {
    "collapsed": false
   },
   "outputs": [],
   "source": [
    "f = open(\"test_visitor.txt\",\"r\")  \n",
    "visitor = []\n",
    "for line in f:\n",
    "    line = line.strip()\n",
    "    line = line.replace(\",\", \"\")\n",
    "    visitor.append(int(line))\n",
    "# print(visitor) "
   ]
  },
  {
   "cell_type": "code",
   "execution_count": 6,
   "metadata": {
    "collapsed": false
   },
   "outputs": [],
   "source": [
    "park_data = {\"name\":name,\"state\":state,\"year\":year,\"visitor\":visitor}\n",
    "park_data_frame = pd.DataFrame(park_data, columns = [\"name\",\"state\",\"year\",\"visitor\"])\n",
    "# park_data_frame"
   ]
  },
  {
   "cell_type": "code",
   "execution_count": 7,
   "metadata": {
    "collapsed": false
   },
   "outputs": [],
   "source": [
    "park_data_frame.to_csv('../park_data_frame_wiki.csv', index=False)\n",
    "# park_data_frame_wiki = pd.read_csv('../park_data_frame_wiki.csv')\n",
    "# park_data_frame_wiki"
   ]
  }
 ],
 "metadata": {
  "anaconda-cloud": {},
  "kernelspec": {
   "display_name": "Python [Root]",
   "language": "python",
   "name": "Python [Root]"
  },
  "language_info": {
   "codemirror_mode": {
    "name": "ipython",
    "version": 2
   },
   "file_extension": ".py",
   "mimetype": "text/x-python",
   "name": "python",
   "nbconvert_exporter": "python",
   "pygments_lexer": "ipython2",
   "version": "2.7.12"
  }
 },
 "nbformat": 4,
 "nbformat_minor": 0
}
